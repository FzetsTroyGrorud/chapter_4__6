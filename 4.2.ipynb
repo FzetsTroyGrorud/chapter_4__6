{
 "cells": [
  {
   "cell_type": "code",
   "execution_count": 1,
   "metadata": {},
   "outputs": [
    {
     "name": "stdout",
     "output_type": "stream",
     "text": [
      "next challege you have to solve this riddle then you get youe final challenge. Whats small and green; A cherry, pea, watermelon, or pumpkin. I know \n",
      "Thats not an answer to the riddle!!!!!!!!\n",
      "Thats not an answer to the riddle!!!!!!!!\n",
      "Thats not an answer to the riddle!!!!!!!!\n",
      "Thats not an answer to the riddle!!!!!!!!\n",
      "Thats not an answer to the riddle!!!!!!!!\n",
      "REALLY!?!\n",
      "Thats not an answer to the riddle!!!!!!!!\n",
      "REALLY!?!\n",
      "WRONG ANSWER TRY AGAIN!!\n",
      "REALLY!?!\n",
      "WRONG ANSWER TRY AGAIN!!\n",
      "REALLY!?!\n",
      "good job..... YOUR Callenge is to eat....8 peas after you leave\n"
     ]
    }
   ],
   "source": [
    "print(\"next challege you have to solve this riddle then you get youe final challenge. Whats small and green; A cherry, pea, watermelon, or pumpkin. I know \")\n",
    "guessed=0\n",
    "food_values={\"pea\":True,\"cherry\":False,\"watermelon\":False,\"pumpkin\":False}\n",
    "while True:\n",
    "  try:\n",
    "    pick=food_values[input(\"Whats the answer my riddle:\")]\n",
    "    if pick==True:\n",
    "      print(f\"good job..... YOUR Callenge is to eat....{guessed} peas after you leave\")\n",
    "      break\n",
    "    elif pick==False:\n",
    "      print(\"WRONG ANSWER TRY AGAIN!!\")\n",
    "      guessed= guessed+1\n",
    "      if guessed>=5:\n",
    "        print(\"REALLY!?!\")\n",
    "      \n",
    "    else:\n",
    "      print(\"Thats not an answer to the riddle!!!!!!!!\")\n",
    "      guessed= guessed+1\n",
    "      if guessed>=5:\n",
    "        print(\"REALLY!?!\")\n",
    "  except:\n",
    "    print(\"Thats not an answer to the riddle!!!!!!!!\")\n",
    "    guessed= guessed+1\n",
    "    if guessed>=5:\n",
    "      print(\"REALLY!?!\")"
   ]
  }
 ],
 "metadata": {
  "kernelspec": {
   "display_name": "Python 3",
   "language": "python",
   "name": "python3"
  },
  "language_info": {
   "codemirror_mode": {
    "name": "ipython",
    "version": 3
   },
   "file_extension": ".py",
   "mimetype": "text/x-python",
   "name": "python",
   "nbconvert_exporter": "python",
   "pygments_lexer": "ipython3",
   "version": "3.11.6"
  }
 },
 "nbformat": 4,
 "nbformat_minor": 2
}
